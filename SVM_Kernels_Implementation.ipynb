{
 "cells": [
  {
   "cell_type": "markdown",
   "metadata": {},
   "source": [
    "### SVM Kernels Indepth Intuition And Practical Explanation"
   ]
  },
  {
   "cell_type": "code",
   "execution_count": 1,
   "metadata": {},
   "outputs": [],
   "source": [
    "import numpy as np\n",
    "import matplotlib.pyplot as plt\n",
    "\n",
    "x = np.linspace(-5.0, 5.0, 100)\n",
    "y = np.sqrt(10**2 - x**2)\n",
    "y=np.hstack([y,-y])\n",
    "x=np.hstack([x,-x])"
   ]
  },
  {
   "cell_type": "code",
   "execution_count": 2,
   "metadata": {},
   "outputs": [
    {
     "data": {
      "text/plain": [
       "array([ 8.66025404,  8.71779204,  8.77378994,  8.82827705,  8.88128118,\n",
       "        8.93282873,  8.98294476,  9.03165312,  9.07897646,  9.12493632,\n",
       "        9.16955321,  9.21284664,  9.25483518,  9.29553652,  9.3349675 ,\n",
       "        9.37314414,  9.41008171,  9.44579475,  9.4802971 ,  9.51360192,\n",
       "        9.54572176,  9.57666854,  9.60645359,  9.63508769,  9.66258107,\n",
       "        9.68894344,  9.714184  ,  9.73831149,  9.76133416,  9.7832598 ,\n",
       "        9.80409577,  9.82384901,  9.84252604,  9.86013297,  9.87667553,\n",
       "        9.89215905,  9.90658851,  9.91996849,  9.93230325,  9.94359667,\n",
       "        9.9538523 ,  9.96307334,  9.97126266,  9.9784228 ,  9.98455598,\n",
       "        9.98966408,  9.99374868,  9.99681104,  9.99885209,  9.99987246,\n",
       "        9.99987246,  9.99885209,  9.99681104,  9.99374868,  9.98966408,\n",
       "        9.98455598,  9.9784228 ,  9.97126266,  9.96307334,  9.9538523 ,\n",
       "        9.94359667,  9.93230325,  9.91996849,  9.90658851,  9.89215905,\n",
       "        9.87667553,  9.86013297,  9.84252604,  9.82384901,  9.80409577,\n",
       "        9.7832598 ,  9.76133416,  9.73831149,  9.714184  ,  9.68894344,\n",
       "        9.66258107,  9.63508769,  9.60645359,  9.57666854,  9.54572176,\n",
       "        9.51360192,  9.4802971 ,  9.44579475,  9.41008171,  9.37314414,\n",
       "        9.3349675 ,  9.29553652,  9.25483518,  9.21284664,  9.16955321,\n",
       "        9.12493632,  9.07897646,  9.03165312,  8.98294476,  8.93282873,\n",
       "        8.88128118,  8.82827705,  8.77378994,  8.71779204,  8.66025404,\n",
       "       -8.66025404, -8.71779204, -8.77378994, -8.82827705, -8.88128118,\n",
       "       -8.93282873, -8.98294476, -9.03165312, -9.07897646, -9.12493632,\n",
       "       -9.16955321, -9.21284664, -9.25483518, -9.29553652, -9.3349675 ,\n",
       "       -9.37314414, -9.41008171, -9.44579475, -9.4802971 , -9.51360192,\n",
       "       -9.54572176, -9.57666854, -9.60645359, -9.63508769, -9.66258107,\n",
       "       -9.68894344, -9.714184  , -9.73831149, -9.76133416, -9.7832598 ,\n",
       "       -9.80409577, -9.82384901, -9.84252604, -9.86013297, -9.87667553,\n",
       "       -9.89215905, -9.90658851, -9.91996849, -9.93230325, -9.94359667,\n",
       "       -9.9538523 , -9.96307334, -9.97126266, -9.9784228 , -9.98455598,\n",
       "       -9.98966408, -9.99374868, -9.99681104, -9.99885209, -9.99987246,\n",
       "       -9.99987246, -9.99885209, -9.99681104, -9.99374868, -9.98966408,\n",
       "       -9.98455598, -9.9784228 , -9.97126266, -9.96307334, -9.9538523 ,\n",
       "       -9.94359667, -9.93230325, -9.91996849, -9.90658851, -9.89215905,\n",
       "       -9.87667553, -9.86013297, -9.84252604, -9.82384901, -9.80409577,\n",
       "       -9.7832598 , -9.76133416, -9.73831149, -9.714184  , -9.68894344,\n",
       "       -9.66258107, -9.63508769, -9.60645359, -9.57666854, -9.54572176,\n",
       "       -9.51360192, -9.4802971 , -9.44579475, -9.41008171, -9.37314414,\n",
       "       -9.3349675 , -9.29553652, -9.25483518, -9.21284664, -9.16955321,\n",
       "       -9.12493632, -9.07897646, -9.03165312, -8.98294476, -8.93282873,\n",
       "       -8.88128118, -8.82827705, -8.77378994, -8.71779204, -8.66025404])"
      ]
     },
     "execution_count": 2,
     "metadata": {},
     "output_type": "execute_result"
    }
   ],
   "source": [
    "y"
   ]
  },
  {
   "cell_type": "code",
   "execution_count": 3,
   "metadata": {},
   "outputs": [],
   "source": [
    "x1 = np.linspace(-5.0, 5.0, 100)\n",
    "y1 = np.sqrt(5**2 - x1**2)\n",
    "y1=np.hstack([y1,-y1])\n",
    "x1=np.hstack([x1,-x1])"
   ]
  },
  {
   "cell_type": "code",
   "execution_count": 4,
   "metadata": {},
   "outputs": [
    {
     "data": {
      "text/plain": [
       "<matplotlib.collections.PathCollection at 0x2d01ffc5310>"
      ]
     },
     "execution_count": 4,
     "metadata": {},
     "output_type": "execute_result"
    },
    {
     "data": {
      "image/png": "[encoded data removed]",
      "text/plain": [
       "<Figure size 640x480 with 1 Axes>"
      ]
     },
     "metadata": {},
     "output_type": "display_data"
    }
   ],
   "source": [
    "plt.scatter(y,x)\n",
    "plt.scatter(y1,x1)"
   ]
  },
  {
   "cell_type": "code",
   "execution_count": 5,
   "metadata": {},
   "outputs": [
    {
     "data": {
      "text/plain": [
       "array([[ 8.66025404, -5.        ],\n",
       "       [ 8.71779204, -4.8989899 ],\n",
       "       [ 8.77378994, -4.7979798 ],\n",
       "       [ 8.82827705, -4.6969697 ],\n",
       "       [ 8.88128118, -4.5959596 ],\n",
       "       [ 8.93282873, -4.49494949],\n",
       "       [ 8.98294476, -4.39393939],\n",
       "       [ 9.03165312, -4.29292929],\n",
       "       [ 9.07897646, -4.19191919],\n",
       "       [ 9.12493632, -4.09090909],\n",
       "       [ 9.16955321, -3.98989899],\n",
       "       [ 9.21284664, -3.88888889],\n",
       "       [ 9.25483518, -3.78787879],\n",
       "       [ 9.29553652, -3.68686869],\n",
       "       [ 9.3349675 , -3.58585859],\n",
       "       [ 9.37314414, -3.48484848],\n",
       "       [ 9.41008171, -3.38383838],\n",
       "       [ 9.44579475, -3.28282828],\n",
       "       [ 9.4802971 , -3.18181818],\n",
       "       [ 9.51360192, -3.08080808],\n",
       "       [ 9.54572176, -2.97979798],\n",
       "       [ 9.57666854, -2.87878788],\n",
       "       [ 9.60645359, -2.77777778],\n",
       "       [ 9.63508769, -2.67676768],\n",
       "       [ 9.66258107, -2.57575758],\n",
       "       [ 9.68894344, -2.47474747],\n",
       "       [ 9.714184  , -2.37373737],\n",
       "       [ 9.73831149, -2.27272727],\n",
       "       [ 9.76133416, -2.17171717],\n",
       "       [ 9.7832598 , -2.07070707],\n",
       "       [ 9.80409577, -1.96969697],\n",
       "       [ 9.82384901, -1.86868687],\n",
       "       [ 9.84252604, -1.76767677],\n",
       "       [ 9.86013297, -1.66666667],\n",
       "       [ 9.87667553, -1.56565657],\n",
       "       [ 9.89215905, -1.46464646],\n",
       "       [ 9.90658851, -1.36363636],\n",
       "       [ 9.91996849, -1.26262626],\n",
       "       [ 9.93230325, -1.16161616],\n",
       "       [ 9.94359667, -1.06060606],\n",
       "       [ 9.9538523 , -0.95959596],\n",
       "       [ 9.96307334, -0.85858586],\n",
       "       [ 9.97126266, -0.75757576],\n",
       "       [ 9.9784228 , -0.65656566],\n",
       "       [ 9.98455598, -0.55555556],\n",
       "       [ 9.98966408, -0.45454545],\n",
       "       [ 9.99374868, -0.35353535],\n",
       "       [ 9.99681104, -0.25252525],\n",
       "       [ 9.99885209, -0.15151515],\n",
       "       [ 9.99987246, -0.05050505],\n",
       "       [ 9.99987246,  0.05050505],\n",
       "       [ 9.99885209,  0.15151515],\n",
       "       [ 9.99681104,  0.25252525],\n",
       "       [ 9.99374868,  0.35353535],\n",
       "       [ 9.98966408,  0.45454545],\n",
       "       [ 9.98455598,  0.55555556],\n",
       "       [ 9.9784228 ,  0.65656566],\n",
       "       [ 9.97126266,  0.75757576],\n",
       "       [ 9.96307334,  0.85858586],\n",
       "       [ 9.9538523 ,  0.95959596],\n",
       "       [ 9.94359667,  1.06060606],\n",
       "       [ 9.93230325,  1.16161616],\n",
       "       [ 9.91996849,  1.26262626],\n",
       "       [ 9.90658851,  1.36363636],\n",
       "       [ 9.89215905,  1.46464646],\n",
       "       [ 9.87667553,  1.56565657],\n",
       "       [ 9.86013297,  1.66666667],\n",
       "       [ 9.84252604,  1.76767677],\n",
       "       [ 9.82384901,  1.86868687],\n",
       "       [ 9.80409577,  1.96969697],\n",
       "       [ 9.7832598 ,  2.07070707],\n",
       "       [ 9.76133416,  2.17171717],\n",
       "       [ 9.73831149,  2.27272727],\n",
       "       [ 9.714184  ,  2.37373737],\n",
       "       [ 9.68894344,  2.47474747],\n",
       "       [ 9.66258107,  2.57575758],\n",
       "       [ 9.63508769,  2.67676768],\n",
       "       [ 9.60645359,  2.77777778],\n",
       "       [ 9.57666854,  2.87878788],\n",
       "       [ 9.54572176,  2.97979798],\n",
       "       [ 9.51360192,  3.08080808],\n",
       "       [ 9.4802971 ,  3.18181818],\n",
       "       [ 9.44579475,  3.28282828],\n",
       "       [ 9.41008171,  3.38383838],\n",
       "       [ 9.37314414,  3.48484848],\n",
       "       [ 9.3349675 ,  3.58585859],\n",
       "       [ 9.29553652,  3.68686869],\n",
       "       [ 9.25483518,  3.78787879],\n",
       "       [ 9.21284664,  3.88888889],\n",
       "       [ 9.16955321,  3.98989899],\n",
       "       [ 9.12493632,  4.09090909],\n",
       "       [ 9.07897646,  4.19191919],\n",
       "       [ 9.03165312,  4.29292929],\n",
       "       [ 8.98294476,  4.39393939],\n",
       "       [ 8.93282873,  4.49494949],\n",
       "       [ 8.88128118,  4.5959596 ],\n",
       "       [ 8.82827705,  4.6969697 ],\n",
       "       [ 8.77378994,  4.7979798 ],\n",
       "       [ 8.71779204,  4.8989899 ],\n",
       "       [ 8.66025404,  5.        ],\n",
       "       [-8.66025404,  5.        ],\n",
       "       [-8.71779204,  4.8989899 ],\n",
       "       [-8.77378994,  4.7979798 ],\n",
       "       [-8.82827705,  4.6969697 ],\n",
       "       [-8.88128118,  4.5959596 ],\n",
       "       [-8.93282873,  4.49494949],\n",
       "       [-8.98294476,  4.39393939],\n",
       "       [-9.03165312,  4.29292929],\n",
       "       [-9.07897646,  4.19191919],\n",
       "       [-9.12493632,  4.09090909],\n",
       "       [-9.16955321,  3.98989899],\n",
       "       [-9.21284664,  3.88888889],\n",
       "       [-9.25483518,  3.78787879],\n",
       "       [-9.29553652,  3.68686869],\n",
       "       [-9.3349675 ,  3.58585859],\n",
       "       [-9.37314414,  3.48484848],\n",
       "       [-9.41008171,  3.38383838],\n",
       "       [-9.44579475,  3.28282828],\n",
       "       [-9.4802971 ,  3.18181818],\n",
       "       [-9.51360192,  3.08080808],\n",
       "       [-9.54572176,  2.97979798],\n",
       "       [-9.57666854,  2.87878788],\n",
       "       [-9.60645359,  2.77777778],\n",
       "       [-9.63508769,  2.67676768],\n",
       "       [-9.66258107,  2.57575758],\n",
       "       [-9.68894344,  2.47474747],\n",
       "       [-9.714184  ,  2.37373737],\n",
       "       [-9.73831149,  2.27272727],\n",
       "       [-9.76133416,  2.17171717],\n",
       "       [-9.7832598 ,  2.07070707],\n",
       "       [-9.80409577,  1.96969697],\n",
       "       [-9.82384901,  1.86868687],\n",
       "       [-9.84252604,  1.76767677],\n",
       "       [-9.86013297,  1.66666667],\n",
       "       [-9.87667553,  1.56565657],\n",
       "       [-9.89215905,  1.46464646],\n",
       "       [-9.90658851,  1.36363636],\n",
       "       [-9.91996849,  1.26262626],\n",
       "       [-9.93230325,  1.16161616],\n",
       "       [-9.94359667,  1.06060606],\n",
       "       [-9.9538523 ,  0.95959596],\n",
       "       [-9.96307334,  0.85858586],\n",
       "       [-9.97126266,  0.75757576],\n",
       "       [-9.9784228 ,  0.65656566],\n",
       "       [-9.98455598,  0.55555556],\n",
       "       [-9.98966408,  0.45454545],\n",
       "       [-9.99374868,  0.35353535],\n",
       "       [-9.99681104,  0.25252525],\n",
       "       [-9.99885209,  0.15151515],\n",
       "       [-9.99987246,  0.05050505],\n",
       "       [-9.99987246, -0.05050505],\n",
       "       [-9.99885209, -0.15151515],\n",
       "       [-9.99681104, -0.25252525],\n",
       "       [-9.99374868, -0.35353535],\n",
       "       [-9.98966408, -0.45454545],\n",
       "       [-9.98455598, -0.55555556],\n",
       "       [-9.9784228 , -0.65656566],\n",
       "       [-9.97126266, -0.75757576],\n",
       "       [-9.96307334, -0.85858586],\n",
       "       [-9.9538523 , -0.95959596],\n",
       "       [-9.94359667, -1.06060606],\n",
       "       [-9.93230325, -1.16161616],\n",
       "       [-9.91996849, -1.26262626],\n",
       "       [-9.90658851, -1.36363636],\n",
       "       [-9.89215905, -1.46464646],\n",
       "       [-9.87667553, -1.56565657],\n",
       "       [-9.86013297, -1.66666667],\n",
       "       [-9.84252604, -1.76767677],\n",
       "       [-9.82384901, -1.86868687],\n",
       "       [-9.80409577, -1.96969697],\n",
       "       [-9.7832598 , -2.07070707],\n",
       "       [-9.76133416, -2.17171717],\n",
       "       [-9.73831149, -2.27272727],\n",
       "       [-9.714184  , -2.37373737],\n",
       "       [-9.68894344, -2.47474747],\n",
       "       [-9.66258107, -2.57575758],\n",
       "       [-9.63508769, -2.67676768],\n",
       "       [-9.60645359, -2.77777778],\n",
       "       [-9.57666854, -2.87878788],\n",
       "       [-9.54572176, -2.97979798],\n",
       "       [-9.51360192, -3.08080808],\n",
       "       [-9.4802971 , -3.18181818],\n",
       "       [-9.44579475, -3.28282828],\n",
       "       [-9.41008171, -3.38383838],\n",
       "       [-9.37314414, -3.48484848],\n",
       "       [-9.3349675 , -3.58585859],\n",
       "       [-9.29553652, -3.68686869],\n",
       "       [-9.25483518, -3.78787879],\n",
       "       [-9.21284664, -3.88888889],\n",
       "       [-9.16955321, -3.98989899],\n",
       "       [-9.12493632, -4.09090909],\n",
       "       [-9.07897646, -4.19191919],\n",
       "       [-9.03165312, -4.29292929],\n",
       "       [-8.98294476, -4.39393939],\n",
       "       [-8.93282873, -4.49494949],\n",
       "       [-8.88128118, -4.5959596 ],\n",
       "       [-8.82827705, -4.6969697 ],\n",
       "       [-8.77378994, -4.7979798 ],\n",
       "       [-8.71779204, -4.8989899 ],\n",
       "       [-8.66025404, -5.        ]])"
      ]
     },
     "execution_count": 5,
     "metadata": {},
     "output_type": "execute_result"
    }
   ],
   "source": [
    "np.vstack([y,x]).T"
   ]
  },
  {
   "cell_type": "code",
   "execution_count": 6,
   "metadata": {},
   "outputs": [
    {
     "data": {
      "text/html": [
       "<div>\n",
       "<style scoped>\n",
       "    .dataframe tbody tr th:only-of-type {\n",
       "        vertical-align: middle;\n",
       "    }\n",
       "\n",
       "    .dataframe tbody tr th {\n",
       "        vertical-align: top;\n",
       "    }\n",
       "\n",
       "    .dataframe thead th {\n",
       "        text-align: right;\n",
       "    }\n",
       "</style>\n",
       "<table border=\"1\" class=\"dataframe\">\n",
       "  <thead>\n",
       "    <tr style=\"text-align: right;\">\n",
       "      <th></th>\n",
       "      <th>X1</th>\n",
       "      <th>X2</th>\n",
       "      <th>Y</th>\n",
       "    </tr>\n",
       "  </thead>\n",
       "  <tbody>\n",
       "    <tr>\n",
       "      <th>0</th>\n",
       "      <td>8.660254</td>\n",
       "      <td>-10.000000</td>\n",
       "      <td>1</td>\n",
       "    </tr>\n",
       "    <tr>\n",
       "      <th>1</th>\n",
       "      <td>9.717741</td>\n",
       "      <td>-9.797980</td>\n",
       "      <td>1</td>\n",
       "    </tr>\n",
       "    <tr>\n",
       "      <th>2</th>\n",
       "      <td>10.180698</td>\n",
       "      <td>-9.595960</td>\n",
       "      <td>1</td>\n",
       "    </tr>\n",
       "    <tr>\n",
       "      <th>3</th>\n",
       "      <td>10.542475</td>\n",
       "      <td>-9.393939</td>\n",
       "      <td>1</td>\n",
       "    </tr>\n",
       "    <tr>\n",
       "      <th>4</th>\n",
       "      <td>10.850331</td>\n",
       "      <td>-9.191919</td>\n",
       "      <td>1</td>\n",
       "    </tr>\n",
       "  </tbody>\n",
       "</table>\n",
       "</div>"
      ],
      "text/plain": [
       "          X1         X2  Y\n",
       "0   8.660254 -10.000000  1\n",
       "1   9.717741  -9.797980  1\n",
       "2  10.180698  -9.595960  1\n",
       "3  10.542475  -9.393939  1\n",
       "4  10.850331  -9.191919  1"
      ]
     },
     "execution_count": 6,
     "metadata": {},
     "output_type": "execute_result"
    }
   ],
   "source": [
    "import pandas as pd\n",
    "df1 =pd.DataFrame(np.vstack([y,x]).T,columns=['X1','X2'])\n",
    "df1['Y']=0\n",
    "df2 =pd.DataFrame(np.vstack([y1,x1]).T,columns=['X1','X2'])\n",
    "df2['Y']=1\n",
    "df = df1+df2\n",
    "df.head(5)"
   ]
  },
  {
   "cell_type": "code",
   "execution_count": 7,
   "metadata": {},
   "outputs": [
    {
     "data": {
      "text/html": [
       "<div>\n",
       "<style scoped>\n",
       "    .dataframe tbody tr th:only-of-type {\n",
       "        vertical-align: middle;\n",
       "    }\n",
       "\n",
       "    .dataframe tbody tr th {\n",
       "        vertical-align: top;\n",
       "    }\n",
       "\n",
       "    .dataframe thead th {\n",
       "        text-align: right;\n",
       "    }\n",
       "</style>\n",
       "<table border=\"1\" class=\"dataframe\">\n",
       "  <thead>\n",
       "    <tr style=\"text-align: right;\">\n",
       "      <th></th>\n",
       "      <th>X1</th>\n",
       "      <th>X2</th>\n",
       "      <th>Y</th>\n",
       "    </tr>\n",
       "  </thead>\n",
       "  <tbody>\n",
       "    <tr>\n",
       "      <th>195</th>\n",
       "      <td>-10.850331</td>\n",
       "      <td>-9.191919</td>\n",
       "      <td>1</td>\n",
       "    </tr>\n",
       "    <tr>\n",
       "      <th>196</th>\n",
       "      <td>-10.542475</td>\n",
       "      <td>-9.393939</td>\n",
       "      <td>1</td>\n",
       "    </tr>\n",
       "    <tr>\n",
       "      <th>197</th>\n",
       "      <td>-10.180698</td>\n",
       "      <td>-9.595960</td>\n",
       "      <td>1</td>\n",
       "    </tr>\n",
       "    <tr>\n",
       "      <th>198</th>\n",
       "      <td>-9.717741</td>\n",
       "      <td>-9.797980</td>\n",
       "      <td>1</td>\n",
       "    </tr>\n",
       "    <tr>\n",
       "      <th>199</th>\n",
       "      <td>-8.660254</td>\n",
       "      <td>-10.000000</td>\n",
       "      <td>1</td>\n",
       "    </tr>\n",
       "  </tbody>\n",
       "</table>\n",
       "</div>"
      ],
      "text/plain": [
       "            X1         X2  Y\n",
       "195 -10.850331  -9.191919  1\n",
       "196 -10.542475  -9.393939  1\n",
       "197 -10.180698  -9.595960  1\n",
       "198  -9.717741  -9.797980  1\n",
       "199  -8.660254 -10.000000  1"
      ]
     },
     "execution_count": 7,
     "metadata": {},
     "output_type": "execute_result"
    }
   ],
   "source": [
    "df.tail()"
   ]
  },
  {
   "cell_type": "code",
   "execution_count": 8,
   "metadata": {},
   "outputs": [],
   "source": [
    "### Independent and Dependent features\n",
    "X = df.iloc[:, :2]  \n",
    "y = df.Y"
   ]
  },
  {
   "cell_type": "code",
   "execution_count": 9,
   "metadata": {},
   "outputs": [
    {
     "data": {
      "text/plain": [
       "0      1\n",
       "1      1\n",
       "2      1\n",
       "3      1\n",
       "4      1\n",
       "      ..\n",
       "195    1\n",
       "196    1\n",
       "197    1\n",
       "198    1\n",
       "199    1\n",
       "Name: Y, Length: 200, dtype: int64"
      ]
     },
     "execution_count": 9,
     "metadata": {},
     "output_type": "execute_result"
    }
   ],
   "source": [
    "y"
   ]
  },
  {
   "cell_type": "code",
   "execution_count": 10,
   "metadata": {},
   "outputs": [],
   "source": [
    "## Split the dataset into train and test\n",
    "from sklearn.model_selection import train_test_split\n",
    "X_train,X_test,y_train,y_test=train_test_split(X,y,test_size=0.25,random_state=0)"
   ]
  },
  {
   "cell_type": "code",
   "execution_count": 11,
   "metadata": {},
   "outputs": [
    {
     "data": {
      "text/plain": [
       "71     1\n",
       "124    1\n",
       "184    1\n",
       "97     1\n",
       "149    1\n",
       "      ..\n",
       "67     1\n",
       "192    1\n",
       "117    1\n",
       "47     1\n",
       "172    1\n",
       "Name: Y, Length: 150, dtype: int64"
      ]
     },
     "execution_count": 11,
     "metadata": {},
     "output_type": "execute_result"
    }
   ],
   "source": [
    "y_train"
   ]
  },
  {
   "attachments": {
    "image.png": {
     "image/png": "[encoded data removed]"
    }
   },
   "cell_type": "markdown",
   "metadata": {},
   "source": [
    "### Polynomial Kernel\n",
    "![image.png](attachment:image.png)"
   ]
  },
  {
   "cell_type": "code",
   "execution_count": 12,
   "metadata": {},
   "outputs": [
    {
     "data": {
      "text/html": [
       "<div>\n",
       "<style scoped>\n",
       "    .dataframe tbody tr th:only-of-type {\n",
       "        vertical-align: middle;\n",
       "    }\n",
       "\n",
       "    .dataframe tbody tr th {\n",
       "        vertical-align: top;\n",
       "    }\n",
       "\n",
       "    .dataframe thead th {\n",
       "        text-align: right;\n",
       "    }\n",
       "</style>\n",
       "<table border=\"1\" class=\"dataframe\">\n",
       "  <thead>\n",
       "    <tr style=\"text-align: right;\">\n",
       "      <th></th>\n",
       "      <th>X1</th>\n",
       "      <th>X2</th>\n",
       "      <th>Y</th>\n",
       "      <th>X1_Square</th>\n",
       "      <th>X2_Square</th>\n",
       "      <th>X1*X2</th>\n",
       "    </tr>\n",
       "  </thead>\n",
       "  <tbody>\n",
       "    <tr>\n",
       "      <th>0</th>\n",
       "      <td>8.660254</td>\n",
       "      <td>-10.000000</td>\n",
       "      <td>1</td>\n",
       "      <td>75.000000</td>\n",
       "      <td>100.000000</td>\n",
       "      <td>-86.602540</td>\n",
       "    </tr>\n",
       "    <tr>\n",
       "      <th>1</th>\n",
       "      <td>9.717741</td>\n",
       "      <td>-9.797980</td>\n",
       "      <td>1</td>\n",
       "      <td>94.434491</td>\n",
       "      <td>96.000408</td>\n",
       "      <td>-95.214230</td>\n",
       "    </tr>\n",
       "    <tr>\n",
       "      <th>2</th>\n",
       "      <td>10.180698</td>\n",
       "      <td>-9.595960</td>\n",
       "      <td>1</td>\n",
       "      <td>103.646609</td>\n",
       "      <td>92.082441</td>\n",
       "      <td>-97.693565</td>\n",
       "    </tr>\n",
       "    <tr>\n",
       "      <th>3</th>\n",
       "      <td>10.542475</td>\n",
       "      <td>-9.393939</td>\n",
       "      <td>1</td>\n",
       "      <td>111.143786</td>\n",
       "      <td>88.246097</td>\n",
       "      <td>-99.035374</td>\n",
       "    </tr>\n",
       "    <tr>\n",
       "      <th>4</th>\n",
       "      <td>10.850331</td>\n",
       "      <td>-9.191919</td>\n",
       "      <td>1</td>\n",
       "      <td>117.729673</td>\n",
       "      <td>84.491378</td>\n",
       "      <td>-99.735362</td>\n",
       "    </tr>\n",
       "  </tbody>\n",
       "</table>\n",
       "</div>"
      ],
      "text/plain": [
       "          X1         X2  Y   X1_Square   X2_Square      X1*X2\n",
       "0   8.660254 -10.000000  1   75.000000  100.000000 -86.602540\n",
       "1   9.717741  -9.797980  1   94.434491   96.000408 -95.214230\n",
       "2  10.180698  -9.595960  1  103.646609   92.082441 -97.693565\n",
       "3  10.542475  -9.393939  1  111.143786   88.246097 -99.035374\n",
       "4  10.850331  -9.191919  1  117.729673   84.491378 -99.735362"
      ]
     },
     "execution_count": 12,
     "metadata": {},
     "output_type": "execute_result"
    }
   ],
   "source": [
    "# We need to find components for the Polynomical Kernel\n",
    "#X1,X2,X1_square,X2_square,X1*X2\n",
    "df['X1_Square']= df['X1']**2\n",
    "df['X2_Square']= df['X2']**2\n",
    "df['X1*X2'] = (df['X1'] *df['X2'])\n",
    "df.head()"
   ]
  },
  {
   "cell_type": "code",
   "execution_count": 13,
   "metadata": {},
   "outputs": [],
   "source": [
    "### Independent and Dependent features\n",
    "X = df[['X1','X2','X1_Square','X2_Square','X1*X2']]\n",
    "y = df['Y']"
   ]
  },
  {
   "cell_type": "code",
   "execution_count": 14,
   "metadata": {},
   "outputs": [
    {
     "data": {
      "text/plain": [
       "0      1\n",
       "1      1\n",
       "2      1\n",
       "3      1\n",
       "4      1\n",
       "      ..\n",
       "195    1\n",
       "196    1\n",
       "197    1\n",
       "198    1\n",
       "199    1\n",
       "Name: Y, Length: 200, dtype: int64"
      ]
     },
     "execution_count": 14,
     "metadata": {},
     "output_type": "execute_result"
    }
   ],
   "source": [
    "y"
   ]
  },
  {
   "cell_type": "code",
   "execution_count": 15,
   "metadata": {},
   "outputs": [],
   "source": [
    "\n",
    "X_train, X_test, y_train, y_test = train_test_split(X, y, \n",
    "                                                    test_size = 0.25, \n",
    "                                                    random_state = 0)\n"
   ]
  },
  {
   "cell_type": "code",
   "execution_count": 16,
   "metadata": {},
   "outputs": [
    {
     "data": {
      "text/html": [
       "<div>\n",
       "<style scoped>\n",
       "    .dataframe tbody tr th:only-of-type {\n",
       "        vertical-align: middle;\n",
       "    }\n",
       "\n",
       "    .dataframe tbody tr th {\n",
       "        vertical-align: top;\n",
       "    }\n",
       "\n",
       "    .dataframe thead th {\n",
       "        text-align: right;\n",
       "    }\n",
       "</style>\n",
       "<table border=\"1\" class=\"dataframe\">\n",
       "  <thead>\n",
       "    <tr style=\"text-align: right;\">\n",
       "      <th></th>\n",
       "      <th>X1</th>\n",
       "      <th>X2</th>\n",
       "      <th>X1_Square</th>\n",
       "      <th>X2_Square</th>\n",
       "      <th>X1*X2</th>\n",
       "    </tr>\n",
       "  </thead>\n",
       "  <tbody>\n",
       "    <tr>\n",
       "      <th>71</th>\n",
       "      <td>14.265071</td>\n",
       "      <td>4.343434</td>\n",
       "      <td>203.492247</td>\n",
       "      <td>18.865422</td>\n",
       "      <td>61.959399</td>\n",
       "    </tr>\n",
       "    <tr>\n",
       "      <th>124</th>\n",
       "      <td>-13.948077</td>\n",
       "      <td>5.151515</td>\n",
       "      <td>194.548844</td>\n",
       "      <td>26.538108</td>\n",
       "      <td>-71.853729</td>\n",
       "    </tr>\n",
       "    <tr>\n",
       "      <th>184</th>\n",
       "      <td>-12.958647</td>\n",
       "      <td>-6.969697</td>\n",
       "      <td>167.926533</td>\n",
       "      <td>48.576676</td>\n",
       "      <td>90.317843</td>\n",
       "    </tr>\n",
       "    <tr>\n",
       "      <th>97</th>\n",
       "      <td>10.180698</td>\n",
       "      <td>9.595960</td>\n",
       "      <td>103.646609</td>\n",
       "      <td>92.082441</td>\n",
       "      <td>97.693565</td>\n",
       "    </tr>\n",
       "    <tr>\n",
       "      <th>149</th>\n",
       "      <td>-14.999617</td>\n",
       "      <td>0.101010</td>\n",
       "      <td>224.988522</td>\n",
       "      <td>0.010203</td>\n",
       "      <td>-1.515113</td>\n",
       "    </tr>\n",
       "    <tr>\n",
       "      <th>...</th>\n",
       "      <td>...</td>\n",
       "      <td>...</td>\n",
       "      <td>...</td>\n",
       "      <td>...</td>\n",
       "      <td>...</td>\n",
       "    </tr>\n",
       "    <tr>\n",
       "      <th>67</th>\n",
       "      <td>14.519632</td>\n",
       "      <td>3.535354</td>\n",
       "      <td>210.819709</td>\n",
       "      <td>12.498725</td>\n",
       "      <td>51.332032</td>\n",
       "    </tr>\n",
       "    <tr>\n",
       "      <th>192</th>\n",
       "      <td>-11.595002</td>\n",
       "      <td>-8.585859</td>\n",
       "      <td>134.444074</td>\n",
       "      <td>73.716968</td>\n",
       "      <td>99.553048</td>\n",
       "    </tr>\n",
       "    <tr>\n",
       "      <th>117</th>\n",
       "      <td>-13.217139</td>\n",
       "      <td>6.565657</td>\n",
       "      <td>174.692767</td>\n",
       "      <td>43.107846</td>\n",
       "      <td>-86.779196</td>\n",
       "    </tr>\n",
       "    <tr>\n",
       "      <th>47</th>\n",
       "      <td>14.990430</td>\n",
       "      <td>-0.505051</td>\n",
       "      <td>224.712994</td>\n",
       "      <td>0.255076</td>\n",
       "      <td>-7.570924</td>\n",
       "    </tr>\n",
       "    <tr>\n",
       "      <th>172</th>\n",
       "      <td>-14.191929</td>\n",
       "      <td>-4.545455</td>\n",
       "      <td>201.410855</td>\n",
       "      <td>20.661157</td>\n",
       "      <td>64.508769</td>\n",
       "    </tr>\n",
       "  </tbody>\n",
       "</table>\n",
       "<p>150 rows × 5 columns</p>\n",
       "</div>"
      ],
      "text/plain": [
       "            X1        X2   X1_Square  X2_Square      X1*X2\n",
       "71   14.265071  4.343434  203.492247  18.865422  61.959399\n",
       "124 -13.948077  5.151515  194.548844  26.538108 -71.853729\n",
       "184 -12.958647 -6.969697  167.926533  48.576676  90.317843\n",
       "97   10.180698  9.595960  103.646609  92.082441  97.693565\n",
       "149 -14.999617  0.101010  224.988522   0.010203  -1.515113\n",
       "..         ...       ...         ...        ...        ...\n",
       "67   14.519632  3.535354  210.819709  12.498725  51.332032\n",
       "192 -11.595002 -8.585859  134.444074  73.716968  99.553048\n",
       "117 -13.217139  6.565657  174.692767  43.107846 -86.779196\n",
       "47   14.990430 -0.505051  224.712994   0.255076  -7.570924\n",
       "172 -14.191929 -4.545455  201.410855  20.661157  64.508769\n",
       "\n",
       "[150 rows x 5 columns]"
      ]
     },
     "execution_count": 16,
     "metadata": {},
     "output_type": "execute_result"
    }
   ],
   "source": [
    "X_train"
   ]
  },
  {
   "cell_type": "code",
   "execution_count": 17,
   "metadata": {},
   "outputs": [
    {
     "data": {
      "application/vnd.plotly.v1+json": {
       "config": {
        "plotlyServerURL": "https://plot.ly"
       },
       "data": [
        {
         "hovertemplate": "X1=%{x}<br>X2=%{y}<br>X1*X2=%{z}<br>Y=%{marker.color}<extra></extra>",
         "legendgroup": "",
         "marker": {
          "color": {
           "bdata": "AQEBAQEBAQEBAQEBAQEBAQEBAQEBAQEBAQEBAQEBAQEBAQEBAQEBAQEBAQEBAQEBAQEBAQEBAQEBAQEBAQEBAQEBAQEBAQEBAQEBAQEBAQEBAQEBAQEBAQEBAQEBAQEBAQEBAQEBAQEBAQEBAQEBAQEBAQEBAQEBAQEBAQEBAQEBAQEBAQEBAQEBAQEBAQEBAQEBAQEBAQEBAQEBAQEBAQEBAQEBAQEBAQEBAQEBAQEBAQEBAQEBAQEBAQEBAQEBAQEBAQEBAQE=",
           "dtype": "i1"
          },
          "coloraxis": "coloraxis",
          "symbol": "circle"
         },
         "mode": "markers",
         "name": "",
         "scene": "scene",
         "showlegend": false,
         "type": "scatter3d",
         "x": {
          "bdata": "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",
          "dtype": "f8"
         },
         "y": {
          "bdata": "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",
          "dtype": "f8"
         },
         "z": {
          "bdata": "5vuEBZCmVcBcAoTytc1XwPnrJ19jbFjAQF23kUPCWMDnA+QpEO9YwE0aJn94/1jAfjh1oDT6WMCuzH8lZeNYwFFDFebSvVjAmpLzRn+LWMCO8D5a7k1YwE1FLaFQBljAZGOSQpy1V8DQX+4dnVxXwKlyeID/+1bAINobileUVsCltQ9xJiZWwDs2UlresVXABscfOeU3VcDOEzf/lrhUwA40D09HNFTAeqGN0UKrU8AKNKhG0B1TwCmqoGExjFLA5kPwfKP2UcBylMouYF1RwDi83sSdwFDAHNpgrI8gUMCq03CUzfpOwPQGpIyjrk3Asq/ZmPpcTMA7eH2IKAZLwFdt0wSAqknAKh/o5lBKSMDSwHSD6OVGwIX8S+6RfUXA9NmcNpYRRMDGSiCdPKJCwGl0GMXKL0HA8lLIwQl1P8AAt5a1W4U8wPBgIvUOkTnAZ3uJEKWYNsCAsXLZnZwzwPmWBKB3nTDAHP8L2V43K8D++m9sgi8lwPO+sF+gSB7AYV87C3otEsDlBDj95j34v+UEOP3mPfg/YV87C3otEkDzvrBfoEgeQP76b2yCLyVADf8L2V43K0D5lgSgd50wQICxctmdnDNAZ3uJEKWYNkDpYCL1DpE5QAC3lrVbhTxA8lLIwQl1P0BpdBjFyi9BQMVKIJ08okJA8tmcNpYRRECF/EvukX1FQNLAdIPo5UZALB/o5lBKSEBVbdMEgKpJQDl4fYgoBktAsq/ZmPpcTED0BqSMo65NQKjTcJTN+k5AHNpgrI8gUEA4vN7EncBQQHKUyi5gXVFA5kPwfKP2UUApqqBhMYxSQAo0qEbQHVNAeqGN0UKrU0ANNA9PRzRUQM8TN/+WuFRABscfOeU3VUA5NlJa3rFVQKW1D3EmJlZAINobileUVkCrcniA//tWQNBf7h2dXFdAY2OSQpy1V0BORS2hUAZYQI7wPlruTVhAmZLzRn+LWEBRQxXm0r1YQK7MfyVl41hAfjh1oDT6WEBNGiZ/eP9YQOgD5CkQ71hAQF23kUPCWED56ydfY2xYQFoChPK1zVdA5vuEBZCmVUDm+4QFkKZVwFwChPK1zVfA+esnX2NsWMBAXbeRQ8JYwOcD5CkQ71jATRomf3j/WMB+OHWgNPpYwK7MfyVl41jAUUMV5tK9WMCakvNGf4tYwI7wPlruTVjATUUtoVAGWMBkY5JCnLVXwNBf7h2dXFfAqXJ4gP/7VsAg2huKV5RWwKW1D3EmJlbAOzZSWt6xVcAGxx855TdVwM4TN/+WuFTADjQPT0c0VMB6oY3RQqtTwAo0qEbQHVPAKaqgYTGMUsDmQ/B8o/ZRwHKUyi5gXVHAOLzexJ3AUMAc2mCsjyBQwKrTcJTN+k7A9AakjKOuTcCyr9mY+lxMwDt4fYgoBkvAV23TBICqScAqH+jmUEpIwNLAdIPo5UbAhfxL7pF9RcD02Zw2lhFEwMZKIJ08okLAaXQYxcovQcDyUsjBCXU/wAC3lrVbhTzA8GAi9Q6ROcBne4kQpZg2wICxctmdnDPA+ZYEoHedMMAc/wvZXjcrwP76b2yCLyXA876wX6BIHsBhXzsLei0SwOUEOP3mPfi/5QQ4/eY9+D9hXzsLei0SQPO+sF+gSB5A/vpvbIIvJUAN/wvZXjcrQPmWBKB3nTBAgLFy2Z2cM0Bne4kQpZg2QOlgIvUOkTlAALeWtVuFPEDyUsjBCXU/QGl0GMXKL0FAxUognTyiQkDy2Zw2lhFEQIX8S+6RfUVA0sB0g+jlRkAsH+jmUEpIQFVt0wSAqklAOXh9iCgGS0Cyr9mY+lxMQPQGpIyjrk1AqNNwlM36TkAc2mCsjyBQQDi83sSdwFBAcpTKLmBdUUDmQ/B8o/ZRQCmqoGExjFJACjSoRtAdU0B6oY3RQqtTQA00D09HNFRAzxM3/5a4VEAGxx855TdVQDk2UlresVVApbUPcSYmVkAg2huKV5RWQKtyeID/+1ZA0F/uHZ1cV0BjY5JCnLVXQE5FLaFQBlhAjvA+Wu5NWECZkvNGf4tYQFFDFebSvVhArsx/JWXjWEB+OHWgNPpYQE0aJn94/1hA6APkKRDvWEBAXbeRQ8JYQPnrJ19jbFhAWgKE8rXNV0Dm+4QFkKZVQA==",
          "dtype": "f8"
         }
        }
       ],
       "layout": {
        "coloraxis": {
         "colorbar": {
          "title": {
           "text": "Y"
          }
         },
         "colorscale": [
          [
           0,
           "#0d0887"
          ],
          [
           0.1111111111111111,
           "#46039f"
          ],
          [
           0.2222222222222222,
           "#7201a8"
          ],
          [
           0.3333333333333333,
           "#9c179e"
          ],
          [
           0.4444444444444444,
           "#bd3786"
          ],
          [
           0.5555555555555556,
           "#d8576b"
          ],
          [
           0.6666666666666666,
           "#ed7953"
          ],
          [
           0.7777777777777778,
           "#fb9f3a"
          ],
          [
           0.8888888888888888,
           "#fdca26"
          ],
          [
           1,
           "#f0f921"
          ]
         ]
        },
        "legend": {
         "tracegroupgap": 0
        },
        "margin": {
         "t": 60
        },
        "scene": {
         "domain": {
          "x": [
           0,
           1
          ],
          "y": [
           0,
           1
          ]
         },
         "xaxis": {
          "title": {
           "text": "X1"
          }
         },
         "yaxis": {
          "title": {
           "text": "X2"
          }
         },
         "zaxis": {
          "title": {
           "text": "X1*X2"
          }
         }
        },
        "template": {
         "data": {
          "bar": [
           {
            "error_x": {
             "color": "#2a3f5f"
            },
            "error_y": {
             "color": "#2a3f5f"
            },
            "marker": {
             "line": {
              "color": "#E5ECF6",
              "width": 0.5
             },
             "pattern": {
              "fillmode": "overlay",
              "size": 10,
              "solidity": 0.2
             }
            },
            "type": "bar"
           }
          ],
          "barpolar": [
           {
            "marker": {
             "line": {
              "color": "#E5ECF6",
              "width": 0.5
             },
             "pattern": {
              "fillmode": "overlay",
              "size": 10,
              "solidity": 0.2
             }
            },
            "type": "barpolar"
           }
          ],
          "carpet": [
           {
            "aaxis": {
             "endlinecolor": "#2a3f5f",
             "gridcolor": "white",
             "linecolor": "white",
             "minorgridcolor": "white",
             "startlinecolor": "#2a3f5f"
            },
            "baxis": {
             "endlinecolor": "#2a3f5f",
             "gridcolor": "white",
             "linecolor": "white",
             "minorgridcolor": "white",
             "startlinecolor": "#2a3f5f"
            },
            "type": "carpet"
           }
          ],
          "choropleth": [
           {
            "colorbar": {
             "outlinewidth": 0,
             "ticks": ""
            },
            "type": "choropleth"
           }
          ],
          "contour": [
           {
            "colorbar": {
             "outlinewidth": 0,
             "ticks": ""
            },
            "colorscale": [
             [
              0,
              "#0d0887"
             ],
             [
              0.1111111111111111,
              "#46039f"
             ],
             [
              0.2222222222222222,
              "#7201a8"
             ],
             [
              0.3333333333333333,
              "#9c179e"
             ],
             [
              0.4444444444444444,
              "#bd3786"
             ],
             [
              0.5555555555555556,
              "#d8576b"
             ],
             [
              0.6666666666666666,
              "#ed7953"
             ],
             [
              0.7777777777777778,
              "#fb9f3a"
             ],
             [
              0.8888888888888888,
              "#fdca26"
             ],
             [
              1,
              "#f0f921"
             ]
            ],
            "type": "contour"
           }
          ],
          "contourcarpet": [
           {
            "colorbar": {
             "outlinewidth": 0,
             "ticks": ""
            },
            "type": "contourcarpet"
           }
          ],
          "heatmap": [
           {
            "colorbar": {
             "outlinewidth": 0,
             "ticks": ""
            },
            "colorscale": [
             [
              0,
              "#0d0887"
             ],
             [
              0.1111111111111111,
              "#46039f"
             ],
             [
              0.2222222222222222,
              "#7201a8"
             ],
             [
              0.3333333333333333,
              "#9c179e"
             ],
             [
              0.4444444444444444,
              "#bd3786"
             ],
             [
              0.5555555555555556,
              "#d8576b"
             ],
             [
              0.6666666666666666,
              "#ed7953"
             ],
             [
              0.7777777777777778,
              "#fb9f3a"
             ],
             [
              0.8888888888888888,
              "#fdca26"
             ],
             [
              1,
              "#f0f921"
             ]
            ],
            "type": "heatmap"
           }
          ],
          "histogram": [
           {
            "marker": {
             "pattern": {
              "fillmode": "overlay",
              "size": 10,
              "solidity": 0.2
             }
            },
            "type": "histogram"
           }
          ],
          "histogram2d": [
           {
            "colorbar": {
             "outlinewidth": 0,
             "ticks": ""
            },
            "colorscale": [
             [
              0,
              "#0d0887"
             ],
             [
              0.1111111111111111,
              "#46039f"
             ],
             [
              0.2222222222222222,
              "#7201a8"
             ],
             [
              0.3333333333333333,
              "#9c179e"
             ],
             [
              0.4444444444444444,
              "#bd3786"
             ],
             [
              0.5555555555555556,
              "#d8576b"
             ],
             [
              0.6666666666666666,
              "#ed7953"
             ],
             [
              0.7777777777777778,
              "#fb9f3a"
             ],
             [
              0.8888888888888888,
              "#fdca26"
             ],
             [
              1,
              "#f0f921"
             ]
            ],
            "type": "histogram2d"
           }
          ],
          "histogram2dcontour": [
           {
            "colorbar": {
             "outlinewidth": 0,
             "ticks": ""
            },
            "colorscale": [
             [
              0,
              "#0d0887"
             ],
             [
              0.1111111111111111,
              "#46039f"
             ],
             [
              0.2222222222222222,
              "#7201a8"
             ],
             [
              0.3333333333333333,
              "#9c179e"
             ],
             [
              0.4444444444444444,
              "#bd3786"
             ],
             [
              0.5555555555555556,
              "#d8576b"
             ],
             [
              0.6666666666666666,
              "#ed7953"
             ],
             [
              0.7777777777777778,
              "#fb9f3a"
             ],
             [
              0.8888888888888888,
              "#fdca26"
             ],
             [
              1,
              "#f0f921"
             ]
            ],
            "type": "histogram2dcontour"
           }
          ],
          "mesh3d": [
           {
            "colorbar": {
             "outlinewidth": 0,
             "ticks": ""
            },
            "type": "mesh3d"
           }
          ],
          "parcoords": [
           {
            "line": {
             "colorbar": {
              "outlinewidth": 0,
              "ticks": ""
             }
            },
            "type": "parcoords"
           }
          ],
          "pie": [
           {
            "automargin": true,
            "type": "pie"
           }
          ],
          "scatter": [
           {
            "fillpattern": {
             "fillmode": "overlay",
             "size": 10,
             "solidity": 0.2
            },
            "type": "scatter"
           }
          ],
          "scatter3d": [
           {
            "line": {
             "colorbar": {
              "outlinewidth": 0,
              "ticks": ""
             }
            },
            "marker": {
             "colorbar": {
              "outlinewidth": 0,
              "ticks": ""
             }
            },
            "type": "scatter3d"
           }
          ],
          "scattercarpet": [
           {
            "marker": {
             "colorbar": {
              "outlinewidth": 0,
              "ticks": ""
             }
            },
            "type": "scattercarpet"
           }
          ],
          "scattergeo": [
           {
            "marker": {
             "colorbar": {
              "outlinewidth": 0,
              "ticks": ""
             }
            },
            "type": "scattergeo"
           }
          ],
          "scattergl": [
           {
            "marker": {
             "colorbar": {
              "outlinewidth": 0,
              "ticks": ""
             }
            },
            "type": "scattergl"
           }
          ],
          "scattermap": [
           {
            "marker": {
             "colorbar": {
              "outlinewidth": 0,
              "ticks": ""
             }
            },
            "type": "scattermap"
           }
          ],
          "scattermapbox": [
           {
            "marker": {
             "colorbar": {
              "outlinewidth": 0,
              "ticks": ""
             }
            },
            "type": "scattermapbox"
           }
          ],
          "scatterpolar": [
           {
            "marker": {
             "colorbar": {
              "outlinewidth": 0,
              "ticks": ""
             }
            },
            "type": "scatterpolar"
           }
          ],
          "scatterpolargl": [
           {
            "marker": {
             "colorbar": {
              "outlinewidth": 0,
              "ticks": ""
             }
            },
            "type": "scatterpolargl"
           }
          ],
          "scatterternary": [
           {
            "marker": {
             "colorbar": {
              "outlinewidth": 0,
              "ticks": ""
             }
            },
            "type": "scatterternary"
           }
          ],
          "surface": [
           {
            "colorbar": {
             "outlinewidth": 0,
             "ticks": ""
            },
            "colorscale": [
             [
              0,
              "#0d0887"
             ],
             [
              0.1111111111111111,
              "#46039f"
             ],
             [
              0.2222222222222222,
              "#7201a8"
             ],
             [
              0.3333333333333333,
              "#9c179e"
             ],
             [
              0.4444444444444444,
              "#bd3786"
             ],
             [
              0.5555555555555556,
              "#d8576b"
             ],
             [
              0.6666666666666666,
              "#ed7953"
             ],
             [
              0.7777777777777778,
              "#fb9f3a"
             ],
             [
              0.8888888888888888,
              "#fdca26"
             ],
             [
              1,
              "#f0f921"
             ]
            ],
            "type": "surface"
           }
          ],
          "table": [
           {
            "cells": {
             "fill": {
              "color": "#EBF0F8"
             },
             "line": {
              "color": "white"
             }
            },
            "header": {
             "fill": {
              "color": "#C8D4E3"
             },
             "line": {
              "color": "white"
             }
            },
            "type": "table"
           }
          ]
         },
         "layout": {
          "annotationdefaults": {
           "arrowcolor": "#2a3f5f",
           "arrowhead": 0,
           "arrowwidth": 1
          },
          "autotypenumbers": "strict",
          "coloraxis": {
           "colorbar": {
            "outlinewidth": 0,
            "ticks": ""
           }
          },
          "colorscale": {
           "diverging": [
            [
             0,
             "#8e0152"
            ],
            [
             0.1,
             "#c51b7d"
            ],
            [
             0.2,
             "#de77ae"
            ],
            [
             0.3,
             "#f1b6da"
            ],
            [
             0.4,
             "#fde0ef"
            ],
            [
             0.5,
             "#f7f7f7"
            ],
            [
             0.6,
             "#e6f5d0"
            ],
            [
             0.7,
             "#b8e186"
            ],
            [
             0.8,
             "#7fbc41"
            ],
            [
             0.9,
             "#4d9221"
            ],
            [
             1,
             "#276419"
            ]
           ],
           "sequential": [
            [
             0,
             "#0d0887"
            ],
            [
             0.1111111111111111,
             "#46039f"
            ],
            [
             0.2222222222222222,
             "#7201a8"
            ],
            [
             0.3333333333333333,
             "#9c179e"
            ],
            [
             0.4444444444444444,
             "#bd3786"
            ],
            [
             0.5555555555555556,
             "#d8576b"
            ],
            [
             0.6666666666666666,
             "#ed7953"
            ],
            [
             0.7777777777777778,
             "#fb9f3a"
            ],
            [
             0.8888888888888888,
             "#fdca26"
            ],
            [
             1,
             "#f0f921"
            ]
           ],
           "sequentialminus": [
            [
             0,
             "#0d0887"
            ],
            [
             0.1111111111111111,
             "#46039f"
            ],
            [
             0.2222222222222222,
             "#7201a8"
            ],
            [
             0.3333333333333333,
             "#9c179e"
            ],
            [
             0.4444444444444444,
             "#bd3786"
            ],
            [
             0.5555555555555556,
             "#d8576b"
            ],
            [
             0.6666666666666666,
             "#ed7953"
            ],
            [
             0.7777777777777778,
             "#fb9f3a"
            ],
            [
             0.8888888888888888,
             "#fdca26"
            ],
            [
             1,
             "#f0f921"
            ]
           ]
          },
          "colorway": [
           "#636efa",
           "#EF553B",
           "#00cc96",
           "#ab63fa",
           "#FFA15A",
           "#19d3f3",
           "#FF6692",
           "#B6E880",
           "#FF97FF",
           "#FECB52"
          ],
          "font": {
           "color": "#2a3f5f"
          },
          "geo": {
           "bgcolor": "white",
           "lakecolor": "white",
           "landcolor": "#E5ECF6",
           "showlakes": true,
           "showland": true,
           "subunitcolor": "white"
          },
          "hoverlabel": {
           "align": "left"
          },
          "hovermode": "closest",
          "mapbox": {
           "style": "light"
          },
          "paper_bgcolor": "white",
          "plot_bgcolor": "#E5ECF6",
          "polar": {
           "angularaxis": {
            "gridcolor": "white",
            "linecolor": "white",
            "ticks": ""
           },
           "bgcolor": "#E5ECF6",
           "radialaxis": {
            "gridcolor": "white",
            "linecolor": "white",
            "ticks": ""
           }
          },
          "scene": {
           "xaxis": {
            "backgroundcolor": "#E5ECF6",
            "gridcolor": "white",
            "gridwidth": 2,
            "linecolor": "white",
            "showbackground": true,
            "ticks": "",
            "zerolinecolor": "white"
           },
           "yaxis": {
            "backgroundcolor": "#E5ECF6",
            "gridcolor": "white",
            "gridwidth": 2,
            "linecolor": "white",
            "showbackground": true,
            "ticks": "",
            "zerolinecolor": "white"
           },
           "zaxis": {
            "backgroundcolor": "#E5ECF6",
            "gridcolor": "white",
            "gridwidth": 2,
            "linecolor": "white",
            "showbackground": true,
            "ticks": "",
            "zerolinecolor": "white"
           }
          },
          "shapedefaults": {
           "line": {
            "color": "#2a3f5f"
           }
          },
          "ternary": {
           "aaxis": {
            "gridcolor": "white",
            "linecolor": "white",
            "ticks": ""
           },
           "baxis": {
            "gridcolor": "white",
            "linecolor": "white",
            "ticks": ""
           },
           "bgcolor": "#E5ECF6",
           "caxis": {
            "gridcolor": "white",
            "linecolor": "white",
            "ticks": ""
           }
          },
          "title": {
           "x": 0.05
          },
          "xaxis": {
           "automargin": true,
           "gridcolor": "white",
           "linecolor": "white",
           "ticks": "",
           "title": {
            "standoff": 15
           },
           "zerolinecolor": "white",
           "zerolinewidth": 2
          },
          "yaxis": {
           "automargin": true,
           "gridcolor": "white",
           "linecolor": "white",
           "ticks": "",
           "title": {
            "standoff": 15
           },
           "zerolinecolor": "white",
           "zerolinewidth": 2
          }
         }
        }
       }
      }
     },
     "metadata": {},
     "output_type": "display_data"
    }
   ],
   "source": [
    "import plotly.express as px\n",
    "fig = px.scatter_3d(df, x='X1', y='X2', z='X1*X2',color='Y')\n",
    "fig.show()\n"
   ]
  },
  {
   "cell_type": "code",
   "execution_count": 18,
   "metadata": {},
   "outputs": [
    {
     "data": {
      "application/vnd.plotly.v1+json": {
       "config": {
        "plotlyServerURL": "https://plot.ly"
       },
       "data": [
        {
         "hovertemplate": "X1_Square=%{y}<br>X1*X2=%{z}<br>Y=%{marker.color}<extra></extra>",
         "legendgroup": "",
         "marker": {
          "color": {
           "bdata": "AQEBAQEBAQEBAQEBAQEBAQEBAQEBAQEBAQEBAQEBAQEBAQEBAQEBAQEBAQEBAQEBAQEBAQEBAQEBAQEBAQEBAQEBAQEBAQEBAQEBAQEBAQEBAQEBAQEBAQEBAQEBAQEBAQEBAQEBAQEBAQEBAQEBAQEBAQEBAQEBAQEBAQEBAQEBAQEBAQEBAQEBAQEBAQEBAQEBAQEBAQEBAQEBAQEBAQEBAQEBAQEBAQEBAQEBAQEBAQEBAQEBAQEBAQEBAQEBAQEBAQEBAQE=",
           "dtype": "i1"
          },
          "coloraxis": "coloraxis",
          "symbol": "circle"
         },
         "mode": "markers",
         "name": "",
         "scene": "scene",
         "showlegend": false,
         "type": "scatter3d",
         "x": {
          "bdata": "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",
          "dtype": "f8"
         },
         "y": {
          "bdata": "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",
          "dtype": "f8"
         },
         "z": {
          "bdata": "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",
          "dtype": "f8"
         }
        }
       ],
       "layout": {
        "coloraxis": {
         "colorbar": {
          "title": {
           "text": "Y"
          }
         },
         "colorscale": [
          [
           0,
           "#0d0887"
          ],
          [
           0.1111111111111111,
           "#46039f"
          ],
          [
           0.2222222222222222,
           "#7201a8"
          ],
          [
           0.3333333333333333,
           "#9c179e"
          ],
          [
           0.4444444444444444,
           "#bd3786"
          ],
          [
           0.5555555555555556,
           "#d8576b"
          ],
          [
           0.6666666666666666,
           "#ed7953"
          ],
          [
           0.7777777777777778,
           "#fb9f3a"
          ],
          [
           0.8888888888888888,
           "#fdca26"
          ],
          [
           1,
           "#f0f921"
          ]
         ]
        },
        "legend": {
         "tracegroupgap": 0
        },
        "margin": {
         "t": 60
        },
        "scene": {
         "domain": {
          "x": [
           0,
           1
          ],
          "y": [
           0,
           1
          ]
         },
         "xaxis": {
          "title": {
           "text": "X1_Square"
          }
         },
         "yaxis": {
          "title": {
           "text": "X1_Square"
          }
         },
         "zaxis": {
          "title": {
           "text": "X1*X2"
          }
         }
        },
        "template": {
         "data": {
          "bar": [
           {
            "error_x": {
             "color": "#2a3f5f"
            },
            "error_y": {
             "color": "#2a3f5f"
            },
            "marker": {
             "line": {
              "color": "#E5ECF6",
              "width": 0.5
             },
             "pattern": {
              "fillmode": "overlay",
              "size": 10,
              "solidity": 0.2
             }
            },
            "type": "bar"
           }
          ],
          "barpolar": [
           {
            "marker": {
             "line": {
              "color": "#E5ECF6",
              "width": 0.5
             },
             "pattern": {
              "fillmode": "overlay",
              "size": 10,
              "solidity": 0.2
             }
            },
            "type": "barpolar"
           }
          ],
          "carpet": [
           {
            "aaxis": {
             "endlinecolor": "#2a3f5f",
             "gridcolor": "white",
             "linecolor": "white",
             "minorgridcolor": "white",
             "startlinecolor": "#2a3f5f"
            },
            "baxis": {
             "endlinecolor": "#2a3f5f",
             "gridcolor": "white",
             "linecolor": "white",
             "minorgridcolor": "white",
             "startlinecolor": "#2a3f5f"
            },
            "type": "carpet"
           }
          ],
          "choropleth": [
           {
            "colorbar": {
             "outlinewidth": 0,
             "ticks": ""
            },
            "type": "choropleth"
           }
          ],
          "contour": [
           {
            "colorbar": {
             "outlinewidth": 0,
             "ticks": ""
            },
            "colorscale": [
             [
              0,
              "#0d0887"
             ],
             [
              0.1111111111111111,
              "#46039f"
             ],
             [
              0.2222222222222222,
              "#7201a8"
             ],
             [
              0.3333333333333333,
              "#9c179e"
             ],
             [
              0.4444444444444444,
              "#bd3786"
             ],
             [
              0.5555555555555556,
              "#d8576b"
             ],
             [
              0.6666666666666666,
              "#ed7953"
             ],
             [
              0.7777777777777778,
              "#fb9f3a"
             ],
             [
              0.8888888888888888,
              "#fdca26"
             ],
             [
              1,
              "#f0f921"
             ]
            ],
            "type": "contour"
           }
          ],
          "contourcarpet": [
           {
            "colorbar": {
             "outlinewidth": 0,
             "ticks": ""
            },
            "type": "contourcarpet"
           }
          ],
          "heatmap": [
           {
            "colorbar": {
             "outlinewidth": 0,
             "ticks": ""
            },
            "colorscale": [
             [
              0,
              "#0d0887"
             ],
             [
              0.1111111111111111,
              "#46039f"
             ],
             [
              0.2222222222222222,
              "#7201a8"
             ],
             [
              0.3333333333333333,
              "#9c179e"
             ],
             [
              0.4444444444444444,
              "#bd3786"
             ],
             [
              0.5555555555555556,
              "#d8576b"
             ],
             [
              0.6666666666666666,
              "#ed7953"
             ],
             [
              0.7777777777777778,
              "#fb9f3a"
             ],
             [
              0.8888888888888888,
              "#fdca26"
             ],
             [
              1,
              "#f0f921"
             ]
            ],
            "type": "heatmap"
           }
          ],
          "histogram": [
           {
            "marker": {
             "pattern": {
              "fillmode": "overlay",
              "size": 10,
              "solidity": 0.2
             }
            },
            "type": "histogram"
           }
          ],
          "histogram2d": [
           {
            "colorbar": {
             "outlinewidth": 0,
             "ticks": ""
            },
            "colorscale": [
             [
              0,
              "#0d0887"
             ],
             [
              0.1111111111111111,
              "#46039f"
             ],
             [
              0.2222222222222222,
              "#7201a8"
             ],
             [
              0.3333333333333333,
              "#9c179e"
             ],
             [
              0.4444444444444444,
              "#bd3786"
             ],
             [
              0.5555555555555556,
              "#d8576b"
             ],
             [
              0.6666666666666666,
              "#ed7953"
             ],
             [
              0.7777777777777778,
              "#fb9f3a"
             ],
             [
              0.8888888888888888,
              "#fdca26"
             ],
             [
              1,
              "#f0f921"
             ]
            ],
            "type": "histogram2d"
           }
          ],
          "histogram2dcontour": [
           {
            "colorbar": {
             "outlinewidth": 0,
             "ticks": ""
            },
            "colorscale": [
             [
              0,
              "#0d0887"
             ],
             [
              0.1111111111111111,
              "#46039f"
             ],
             [
              0.2222222222222222,
              "#7201a8"
             ],
             [
              0.3333333333333333,
              "#9c179e"
             ],
             [
              0.4444444444444444,
              "#bd3786"
             ],
             [
              0.5555555555555556,
              "#d8576b"
             ],
             [
              0.6666666666666666,
              "#ed7953"
             ],
             [
              0.7777777777777778,
              "#fb9f3a"
             ],
             [
              0.8888888888888888,
              "#fdca26"
             ],
             [
              1,
              "#f0f921"
             ]
            ],
            "type": "histogram2dcontour"
           }
          ],
          "mesh3d": [
           {
            "colorbar": {
             "outlinewidth": 0,
             "ticks": ""
            },
            "type": "mesh3d"
           }
          ],
          "parcoords": [
           {
            "line": {
             "colorbar": {
              "outlinewidth": 0,
              "ticks": ""
             }
            },
            "type": "parcoords"
           }
          ],
          "pie": [
           {
            "automargin": true,
            "type": "pie"
           }
          ],
          "scatter": [
           {
            "fillpattern": {
             "fillmode": "overlay",
             "size": 10,
             "solidity": 0.2
            },
            "type": "scatter"
           }
          ],
          "scatter3d": [
           {
            "line": {
             "colorbar": {
              "outlinewidth": 0,
              "ticks": ""
             }
            },
            "marker": {
             "colorbar": {
              "outlinewidth": 0,
              "ticks": ""
             }
            },
            "type": "scatter3d"
           }
          ],
          "scattercarpet": [
           {
            "marker": {
             "colorbar": {
              "outlinewidth": 0,
              "ticks": ""
             }
            },
            "type": "scattercarpet"
           }
          ],
          "scattergeo": [
           {
            "marker": {
             "colorbar": {
              "outlinewidth": 0,
              "ticks": ""
             }
            },
            "type": "scattergeo"
           }
          ],
          "scattergl": [
           {
            "marker": {
             "colorbar": {
              "outlinewidth": 0,
              "ticks": ""
             }
            },
            "type": "scattergl"
           }
          ],
          "scattermap": [
           {
            "marker": {
             "colorbar": {
              "outlinewidth": 0,
              "ticks": ""
             }
            },
            "type": "scattermap"
           }
          ],
          "scattermapbox": [
           {
            "marker": {
             "colorbar": {
              "outlinewidth": 0,
              "ticks": ""
             }
            },
            "type": "scattermapbox"
           }
          ],
          "scatterpolar": [
           {
            "marker": {
             "colorbar": {
              "outlinewidth": 0,
              "ticks": ""
             }
            },
            "type": "scatterpolar"
           }
          ],
          "scatterpolargl": [
           {
            "marker": {
             "colorbar": {
              "outlinewidth": 0,
              "ticks": ""
             }
            },
            "type": "scatterpolargl"
           }
          ],
          "scatterternary": [
           {
            "marker": {
             "colorbar": {
              "outlinewidth": 0,
              "ticks": ""
             }
            },
            "type": "scatterternary"
           }
          ],
          "surface": [
           {
            "colorbar": {
             "outlinewidth": 0,
             "ticks": ""
            },
            "colorscale": [
             [
              0,
              "#0d0887"
             ],
             [
              0.1111111111111111,
              "#46039f"
             ],
             [
              0.2222222222222222,
              "#7201a8"
             ],
             [
              0.3333333333333333,
              "#9c179e"
             ],
             [
              0.4444444444444444,
              "#bd3786"
             ],
             [
              0.5555555555555556,
              "#d8576b"
             ],
             [
              0.6666666666666666,
              "#ed7953"
             ],
             [
              0.7777777777777778,
              "#fb9f3a"
             ],
             [
              0.8888888888888888,
              "#fdca26"
             ],
             [
              1,
              "#f0f921"
             ]
            ],
            "type": "surface"
           }
          ],
          "table": [
           {
            "cells": {
             "fill": {
              "color": "#EBF0F8"
             },
             "line": {
              "color": "white"
             }
            },
            "header": {
             "fill": {
              "color": "#C8D4E3"
             },
             "line": {
              "color": "white"
             }
            },
            "type": "table"
           }
          ]
         },
         "layout": {
          "annotationdefaults": {
           "arrowcolor": "#2a3f5f",
           "arrowhead": 0,
           "arrowwidth": 1
          },
          "autotypenumbers": "strict",
          "coloraxis": {
           "colorbar": {
            "outlinewidth": 0,
            "ticks": ""
           }
          },
          "colorscale": {
           "diverging": [
            [
             0,
             "#8e0152"
            ],
            [
             0.1,
             "#c51b7d"
            ],
            [
             0.2,
             "#de77ae"
            ],
            [
             0.3,
             "#f1b6da"
            ],
            [
             0.4,
             "#fde0ef"
            ],
            [
             0.5,
             "#f7f7f7"
            ],
            [
             0.6,
             "#e6f5d0"
            ],
            [
             0.7,
             "#b8e186"
            ],
            [
             0.8,
             "#7fbc41"
            ],
            [
             0.9,
             "#4d9221"
            ],
            [
             1,
             "#276419"
            ]
           ],
           "sequential": [
            [
             0,
             "#0d0887"
            ],
            [
             0.1111111111111111,
             "#46039f"
            ],
            [
             0.2222222222222222,
             "#7201a8"
            ],
            [
             0.3333333333333333,
             "#9c179e"
            ],
            [
             0.4444444444444444,
             "#bd3786"
            ],
            [
             0.5555555555555556,
             "#d8576b"
            ],
            [
             0.6666666666666666,
             "#ed7953"
            ],
            [
             0.7777777777777778,
             "#fb9f3a"
            ],
            [
             0.8888888888888888,
             "#fdca26"
            ],
            [
             1,
             "#f0f921"
            ]
           ],
           "sequentialminus": [
            [
             0,
             "#0d0887"
            ],
            [
             0.1111111111111111,
             "#46039f"
            ],
            [
             0.2222222222222222,
             "#7201a8"
            ],
            [
             0.3333333333333333,
             "#9c179e"
            ],
            [
             0.4444444444444444,
             "#bd3786"
            ],
            [
             0.5555555555555556,
             "#d8576b"
            ],
            [
             0.6666666666666666,
             "#ed7953"
            ],
            [
             0.7777777777777778,
             "#fb9f3a"
            ],
            [
             0.8888888888888888,
             "#fdca26"
            ],
            [
             1,
             "#f0f921"
            ]
           ]
          },
          "colorway": [
           "#636efa",
           "#EF553B",
           "#00cc96",
           "#ab63fa",
           "#FFA15A",
           "#19d3f3",
           "#FF6692",
           "#B6E880",
           "#FF97FF",
           "#FECB52"
          ],
          "font": {
           "color": "#2a3f5f"
          },
          "geo": {
           "bgcolor": "white",
           "lakecolor": "white",
           "landcolor": "#E5ECF6",
           "showlakes": true,
           "showland": true,
           "subunitcolor": "white"
          },
          "hoverlabel": {
           "align": "left"
          },
          "hovermode": "closest",
          "mapbox": {
           "style": "light"
          },
          "paper_bgcolor": "white",
          "plot_bgcolor": "#E5ECF6",
          "polar": {
           "angularaxis": {
            "gridcolor": "white",
            "linecolor": "white",
            "ticks": ""
           },
           "bgcolor": "#E5ECF6",
           "radialaxis": {
            "gridcolor": "white",
            "linecolor": "white",
            "ticks": ""
           }
          },
          "scene": {
           "xaxis": {
            "backgroundcolor": "#E5ECF6",
            "gridcolor": "white",
            "gridwidth": 2,
            "linecolor": "white",
            "showbackground": true,
            "ticks": "",
            "zerolinecolor": "white"
           },
           "yaxis": {
            "backgroundcolor": "#E5ECF6",
            "gridcolor": "white",
            "gridwidth": 2,
            "linecolor": "white",
            "showbackground": true,
            "ticks": "",
            "zerolinecolor": "white"
           },
           "zaxis": {
            "backgroundcolor": "#E5ECF6",
            "gridcolor": "white",
            "gridwidth": 2,
            "linecolor": "white",
            "showbackground": true,
            "ticks": "",
            "zerolinecolor": "white"
           }
          },
          "shapedefaults": {
           "line": {
            "color": "#2a3f5f"
           }
          },
          "ternary": {
           "aaxis": {
            "gridcolor": "white",
            "linecolor": "white",
            "ticks": ""
           },
           "baxis": {
            "gridcolor": "white",
            "linecolor": "white",
            "ticks": ""
           },
           "bgcolor": "#E5ECF6",
           "caxis": {
            "gridcolor": "white",
            "linecolor": "white",
            "ticks": ""
           }
          },
          "title": {
           "x": 0.05
          },
          "xaxis": {
           "automargin": true,
           "gridcolor": "white",
           "linecolor": "white",
           "ticks": "",
           "title": {
            "standoff": 15
           },
           "zerolinecolor": "white",
           "zerolinewidth": 2
          },
          "yaxis": {
           "automargin": true,
           "gridcolor": "white",
           "linecolor": "white",
           "ticks": "",
           "title": {
            "standoff": 15
           },
           "zerolinecolor": "white",
           "zerolinewidth": 2
          }
         }
        }
       }
      }
     },
     "metadata": {},
     "output_type": "display_data"
    }
   ],
   "source": [
    "\n",
    "fig = px.scatter_3d(df, x='X1_Square', y='X1_Square', z='X1*X2',\n",
    "              color='Y')\n",
    "fig.show()"
   ]
  },
  {
   "cell_type": "code",
   "execution_count": 19,
   "metadata": {},
   "outputs": [
    {
     "ename": "ValueError",
     "evalue": "The number of classes has to be greater than one; got 1 class",
     "output_type": "error",
     "traceback": [
      "\u001b[31m---------------------------------------------------------------------------\u001b[39m",
      "\u001b[31mValueError\u001b[39m                                Traceback (most recent call last)",
      "\u001b[36mCell\u001b[39m\u001b[36m \u001b[39m\u001b[32mIn[19]\u001b[39m\u001b[32m, line 4\u001b[39m\n\u001b[32m      2\u001b[39m \u001b[38;5;28;01mfrom\u001b[39;00m\u001b[38;5;250m \u001b[39m\u001b[34;01msklearn\u001b[39;00m\u001b[34;01m.\u001b[39;00m\u001b[34;01mmetrics\u001b[39;00m\u001b[38;5;250m \u001b[39m\u001b[38;5;28;01mimport\u001b[39;00m accuracy_score\n\u001b[32m      3\u001b[39m classifier = SVC(kernel=\u001b[33m\"\u001b[39m\u001b[33mlinear\u001b[39m\u001b[33m\"\u001b[39m)\n\u001b[32m----> \u001b[39m\u001b[32m4\u001b[39m \u001b[43mclassifier\u001b[49m\u001b[43m.\u001b[49m\u001b[43mfit\u001b[49m\u001b[43m(\u001b[49m\u001b[43mX_train\u001b[49m\u001b[43m,\u001b[49m\u001b[43m \u001b[49m\u001b[43my_train\u001b[49m\u001b[43m)\u001b[49m\n\u001b[32m      5\u001b[39m y_pred = classifier.predict(X_test)\n\u001b[32m      6\u001b[39m accuracy_score(y_test, y_pred)\n",
      "\u001b[36mFile \u001b[39m\u001b[32mc:\\Users\\chara\\AppData\\Local\\Programs\\Python\\Python313\\Lib\\site-packages\\sklearn\\base.py:1365\u001b[39m, in \u001b[36m_fit_context.<locals>.decorator.<locals>.wrapper\u001b[39m\u001b[34m(estimator, *args, **kwargs)\u001b[39m\n\u001b[32m   1358\u001b[39m     estimator._validate_params()\n\u001b[32m   1360\u001b[39m \u001b[38;5;28;01mwith\u001b[39;00m config_context(\n\u001b[32m   1361\u001b[39m     skip_parameter_validation=(\n\u001b[32m   1362\u001b[39m         prefer_skip_nested_validation \u001b[38;5;129;01mor\u001b[39;00m global_skip_validation\n\u001b[32m   1363\u001b[39m     )\n\u001b[32m   1364\u001b[39m ):\n\u001b[32m-> \u001b[39m\u001b[32m1365\u001b[39m     \u001b[38;5;28;01mreturn\u001b[39;00m \u001b[43mfit_method\u001b[49m\u001b[43m(\u001b[49m\u001b[43mestimator\u001b[49m\u001b[43m,\u001b[49m\u001b[43m \u001b[49m\u001b[43m*\u001b[49m\u001b[43margs\u001b[49m\u001b[43m,\u001b[49m\u001b[43m \u001b[49m\u001b[43m*\u001b[49m\u001b[43m*\u001b[49m\u001b[43mkwargs\u001b[49m\u001b[43m)\u001b[49m\n",
      "\u001b[36mFile \u001b[39m\u001b[32mc:\\Users\\chara\\AppData\\Local\\Programs\\Python\\Python313\\Lib\\site-packages\\sklearn\\svm\\_base.py:207\u001b[39m, in \u001b[36mBaseLibSVM.fit\u001b[39m\u001b[34m(self, X, y, sample_weight)\u001b[39m\n\u001b[32m    196\u001b[39m \u001b[38;5;28;01melse\u001b[39;00m:\n\u001b[32m    197\u001b[39m     X, y = validate_data(\n\u001b[32m    198\u001b[39m         \u001b[38;5;28mself\u001b[39m,\n\u001b[32m    199\u001b[39m         X,\n\u001b[32m   (...)\u001b[39m\u001b[32m    204\u001b[39m         accept_large_sparse=\u001b[38;5;28;01mFalse\u001b[39;00m,\n\u001b[32m    205\u001b[39m     )\n\u001b[32m--> \u001b[39m\u001b[32m207\u001b[39m y = \u001b[38;5;28;43mself\u001b[39;49m\u001b[43m.\u001b[49m\u001b[43m_validate_targets\u001b[49m\u001b[43m(\u001b[49m\u001b[43my\u001b[49m\u001b[43m)\u001b[49m\n\u001b[32m    209\u001b[39m sample_weight = np.asarray(\n\u001b[32m    210\u001b[39m     [] \u001b[38;5;28;01mif\u001b[39;00m sample_weight \u001b[38;5;129;01mis\u001b[39;00m \u001b[38;5;28;01mNone\u001b[39;00m \u001b[38;5;28;01melse\u001b[39;00m sample_weight, dtype=np.float64\n\u001b[32m    211\u001b[39m )\n\u001b[32m    212\u001b[39m solver_type = LIBSVM_IMPL.index(\u001b[38;5;28mself\u001b[39m._impl)\n",
      "\u001b[36mFile \u001b[39m\u001b[32mc:\\Users\\chara\\AppData\\Local\\Programs\\Python\\Python313\\Lib\\site-packages\\sklearn\\svm\\_base.py:751\u001b[39m, in \u001b[36mBaseSVC._validate_targets\u001b[39m\u001b[34m(self, y)\u001b[39m\n\u001b[32m    749\u001b[39m \u001b[38;5;28mself\u001b[39m.class_weight_ = compute_class_weight(\u001b[38;5;28mself\u001b[39m.class_weight, classes=\u001b[38;5;28mcls\u001b[39m, y=y_)\n\u001b[32m    750\u001b[39m \u001b[38;5;28;01mif\u001b[39;00m \u001b[38;5;28mlen\u001b[39m(\u001b[38;5;28mcls\u001b[39m) < \u001b[32m2\u001b[39m:\n\u001b[32m--> \u001b[39m\u001b[32m751\u001b[39m     \u001b[38;5;28;01mraise\u001b[39;00m \u001b[38;5;167;01mValueError\u001b[39;00m(\n\u001b[32m    752\u001b[39m         \u001b[33m\"\u001b[39m\u001b[33mThe number of classes has to be greater than one; got \u001b[39m\u001b[38;5;132;01m%d\u001b[39;00m\u001b[33m class\u001b[39m\u001b[33m\"\u001b[39m\n\u001b[32m    753\u001b[39m         % \u001b[38;5;28mlen\u001b[39m(\u001b[38;5;28mcls\u001b[39m)\n\u001b[32m    754\u001b[39m     )\n\u001b[32m    756\u001b[39m \u001b[38;5;28mself\u001b[39m.classes_ = \u001b[38;5;28mcls\u001b[39m\n\u001b[32m    758\u001b[39m \u001b[38;5;28;01mreturn\u001b[39;00m np.asarray(y, dtype=np.float64, order=\u001b[33m\"\u001b[39m\u001b[33mC\u001b[39m\u001b[33m\"\u001b[39m)\n",
      "\u001b[31mValueError\u001b[39m: The number of classes has to be greater than one; got 1 class"
     ]
    }
   ],
   "source": [
    "from sklearn.svm import SVC\n",
    "from sklearn.metrics import accuracy_score\n",
    "classifier = SVC(kernel=\"linear\")\n",
    "classifier.fit(X_train, y_train)\n",
    "y_pred = classifier.predict(X_test)\n",
    "accuracy_score(y_test, y_pred)"
   ]
  },
  {
   "cell_type": "code",
   "execution_count": null,
   "metadata": {},
   "outputs": [
    {
     "data": {
      "text/plain": [
       "1.0"
      ]
     },
     "execution_count": 23,
     "metadata": {},
     "output_type": "execute_result"
    }
   ],
   "source": [
    "from sklearn.svm import SVC\n",
    "from sklearn.metrics import accuracy_score\n",
    "classifier = SVC(kernel=\"poly\")\n",
    "classifier.fit(X_train, y_train)\n",
    "y_pred = classifier.predict(X_test)\n",
    "accuracy_score(y_test, y_pred)"
   ]
  },
  {
   "cell_type": "code",
   "execution_count": null,
   "metadata": {},
   "outputs": [
    {
     "data": {
      "text/plain": [
       "1.0"
      ]
     },
     "execution_count": 24,
     "metadata": {},
     "output_type": "execute_result"
    }
   ],
   "source": [
    "from sklearn.svm import SVC\n",
    "from sklearn.metrics import accuracy_score\n",
    "classifier = SVC(kernel=\"rbf\")\n",
    "classifier.fit(X_train, y_train)\n",
    "y_pred = classifier.predict(X_test)\n",
    "accuracy_score(y_test, y_pred)"
   ]
  },
  {
   "cell_type": "code",
   "execution_count": null,
   "metadata": {},
   "outputs": [
    {
     "data": {
      "text/plain": [
       "1.0"
      ]
     },
     "execution_count": 25,
     "metadata": {},
     "output_type": "execute_result"
    }
   ],
   "source": [
    "from sklearn.svm import SVC\n",
    "from sklearn.metrics import accuracy_score\n",
    "classifier = SVC(kernel=\"sigmoid\")\n",
    "classifier.fit(X_train, y_train)\n",
    "y_pred = classifier.predict(X_test)\n",
    "accuracy_score(y_test, y_pred)"
   ]
  },
  {
   "cell_type": "code",
   "execution_count": null,
   "metadata": {},
   "outputs": [],
   "source": []
  }
 ],
 "metadata": {
  "kernelspec": {
   "display_name": "Python 3",
   "language": "python",
   "name": "python3"
  },
  "language_info": {
   "codemirror_mode": {
    "name": "ipython",
    "version": 3
   },
   "file_extension": ".py",
   "mimetype": "text/x-python",
   "name": "python",
   "nbconvert_exporter": "python",
   "pygments_lexer": "ipython3",
   "version": "3.13.3"
  }
 },
 "nbformat": 4,
 "nbformat_minor": 4
}
